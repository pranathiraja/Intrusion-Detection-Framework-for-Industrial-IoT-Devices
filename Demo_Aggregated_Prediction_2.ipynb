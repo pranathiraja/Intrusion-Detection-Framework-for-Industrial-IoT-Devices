{
 "cells": [
  {
   "cell_type": "markdown",
   "source": [
    "# Demonstrate the Aggregated Prediction Methods Using Different Classifiers"
   ],
   "metadata": {
    "collapsed": false
   },
   "id": "ef6e5aff929320e6"
  },
  {
   "cell_type": "code",
   "execution_count": 1,
   "id": "initial_id",
   "metadata": {
    "collapsed": true,
    "ExecuteTime": {
     "end_time": "2023-12-22T20:29:12.223182100Z",
     "start_time": "2023-12-22T20:29:11.384800300Z"
    }
   },
   "outputs": [],
   "source": [
    "import helper\n",
    "import aggregated_predict as ap\n",
    "import os\n",
    "from sklearn.ensemble import RandomForestClassifier\n",
    "from sklearn.linear_model import LogisticRegression\n",
    "from sklearn.ensemble import GradientBoostingClassifier\n",
    "from sklearn import svm\n",
    "import pandas as pd\n",
    "import joblib\n",
    "import time\n",
    "import warnings\n",
    "warnings.simplefilter('ignore')"
   ]
  },
  {
   "cell_type": "code",
   "execution_count": 2,
   "outputs": [],
   "source": [
    "path = \"./new_models\"\n",
    "os.makedirs(path, exist_ok=True)"
   ],
   "metadata": {
    "collapsed": false,
    "ExecuteTime": {
     "end_time": "2023-12-22T20:29:12.238210700Z",
     "start_time": "2023-12-22T20:29:12.223182100Z"
    }
   },
   "id": "e4cbc6ee29f94806"
  },
  {
   "cell_type": "markdown",
   "source": [
    "### Train Client Model"
   ],
   "metadata": {
    "collapsed": false
   },
   "id": "ce31b0626fc89e48"
  },
  {
   "cell_type": "code",
   "execution_count": 3,
   "outputs": [
    {
     "data": {
      "text/plain": "['./new_models/client_1.joblib']"
     },
     "execution_count": 3,
     "metadata": {},
     "output_type": "execute_result"
    }
   ],
   "source": [
    "rf = RandomForestClassifier()\n",
    "X_train, y_train = helper.load_sensor_train_set(0)\n",
    "rf.fit(X_train, y_train)\n",
    "rf_filename = f'{path}/client_1.joblib'\n",
    "joblib.dump(rf, filename=rf_filename)"
   ],
   "metadata": {
    "collapsed": false,
    "ExecuteTime": {
     "end_time": "2023-12-22T20:29:20.721144Z",
     "start_time": "2023-12-22T20:29:12.239329800Z"
    }
   },
   "id": "b64a1c8843846d4f"
  },
  {
   "cell_type": "code",
   "execution_count": 4,
   "outputs": [
    {
     "data": {
      "text/plain": "['./new_models/client_2.joblib']"
     },
     "execution_count": 4,
     "metadata": {},
     "output_type": "execute_result"
    }
   ],
   "source": [
    "lr = LogisticRegression()\n",
    "X_train, y_train = helper.load_sensor_train_set(1)\n",
    "lr.fit(X_train, y_train)\n",
    "lr_filename = f'{path}/client_2.joblib'\n",
    "joblib.dump(lr, filename=lr_filename)"
   ],
   "metadata": {
    "collapsed": false,
    "ExecuteTime": {
     "end_time": "2023-12-22T20:29:20.949725900Z",
     "start_time": "2023-12-22T20:29:20.711888600Z"
    }
   },
   "id": "617a9928f053f38f"
  },
  {
   "cell_type": "code",
   "execution_count": 5,
   "outputs": [
    {
     "data": {
      "text/plain": "['./new_models/client_3.joblib']"
     },
     "execution_count": 5,
     "metadata": {},
     "output_type": "execute_result"
    }
   ],
   "source": [
    "gb = GradientBoostingClassifier()\n",
    "X_train, y_train = helper.load_sensor_train_set(2)\n",
    "gb.fit(X_train, y_train)\n",
    "gb_filename = f'{path}/client_3.joblib'\n",
    "joblib.dump(gb, filename=gb_filename)"
   ],
   "metadata": {
    "collapsed": false,
    "ExecuteTime": {
     "end_time": "2023-12-22T20:29:25.690171900Z",
     "start_time": "2023-12-22T20:29:20.949725900Z"
    }
   },
   "id": "65db57480c72400b"
  },
  {
   "cell_type": "markdown",
   "source": [
    "### Train Server Model"
   ],
   "metadata": {
    "collapsed": false
   },
   "id": "eff5351e513122bc"
  },
  {
   "cell_type": "code",
   "execution_count": 6,
   "outputs": [
    {
     "data": {
      "text/plain": "['./new_models/server.joblib']"
     },
     "execution_count": 6,
     "metadata": {},
     "output_type": "execute_result"
    }
   ],
   "source": [
    "sv = svm.SVC()\n",
    "X_train, y_train = helper.load_network_train_set()\n",
    "sv.fit(X_train, y_train)\n",
    "sv_filename = f'{path}/server.joblib'\n",
    "joblib.dump(sv, filename=sv_filename)"
   ],
   "metadata": {
    "collapsed": false,
    "ExecuteTime": {
     "end_time": "2023-12-22T20:32:11.789621200Z",
     "start_time": "2023-12-22T20:29:25.682486400Z"
    }
   },
   "id": "4046cea4e5b7597c"
  },
  {
   "cell_type": "markdown",
   "source": [
    "## 1. Testing of each model and demonstration of model aggregated prediction methods"
   ],
   "metadata": {
    "collapsed": false
   },
   "id": "880c954dc5c040e"
  },
  {
   "cell_type": "code",
   "execution_count": 7,
   "outputs": [
    {
     "name": "stdout",
     "output_type": "stream",
     "text": [
      "Sensor Model 1 Prediction Results:\n",
      "-----------------------------\n",
      "Accuracy : 0.935854899358549\n",
      "Precision: 0.9360495321163556\n",
      "Recall   : 0.935854899358549\n",
      "F1 Score : 0.9359263888667118\n",
      "-----------------------------\n",
      "\n",
      "\n",
      "Sensor Model 2 Prediction Results:\n",
      "-----------------------------\n",
      "Accuracy : 0.6156455061564551\n",
      "Precision: 0.5945190213395155\n",
      "Recall   : 0.6156455061564551\n",
      "F1 Score : 0.5353481763966701\n",
      "-----------------------------\n",
      "\n",
      "\n",
      "Sensor Model 3 Prediction Results:\n",
      "-----------------------------\n",
      "Accuracy : 0.7262405072624051\n",
      "Precision: 0.7235608153075249\n",
      "Recall   : 0.7262405072624051\n",
      "F1 Score : 0.7243480223667443\n",
      "-----------------------------\n",
      "\n",
      "Network Model Prediction Results:\n",
      "-----------------------------\n",
      "Accuracy : 0.9716876797168768\n",
      "Precision: 0.9716697180910869\n",
      "Recall   : 0.9716876797168768\n",
      "F1 Score : 0.9716739444026261\n",
      "-----------------------------\n"
     ]
    },
    {
     "data": {
      "text/plain": "<Figure size 640x480 with 1 Axes>",
      "image/png": "[encoded data removed]"
     },
     "metadata": {},
     "output_type": "display_data"
    }
   ],
   "source": [
    "# Load the testing set\n",
    "sensor_test, network_test = helper.load_test_set()\n",
    "\n",
    "# Load the models\n",
    "sensor_models = [rf_filename, lr_filename, gb_filename]\n",
    "network_model = sv_filename\n",
    "\n",
    "# Test models \n",
    "models_predictions, models_metrics = ap.get_predictions_and_metrics(\n",
    "    local_models=sensor_models,\n",
    "    sensor_test=sensor_test,\n",
    "    global_model=network_model,\n",
    "    network_test=network_test,\n",
    "    roc=False\n",
    ")"
   ],
   "metadata": {
    "collapsed": false,
    "ExecuteTime": {
     "end_time": "2023-12-22T20:32:34.527705Z",
     "start_time": "2023-12-22T20:32:11.774621800Z"
    }
   },
   "id": "43896ae5747d4967"
  },
  {
   "cell_type": "code",
   "execution_count": 8,
   "outputs": [],
   "source": [
    "# Load network testing set, set the weights\n",
    "y_test = network_test.iloc[:, -1]\n",
    "model_weights = [0.2, 0.2, 0.2, 0.4]"
   ],
   "metadata": {
    "collapsed": false,
    "ExecuteTime": {
     "end_time": "2023-12-22T20:32:34.584748Z",
     "start_time": "2023-12-22T20:32:34.529713200Z"
    }
   },
   "id": "a7b64237f24e8309"
  },
  {
   "cell_type": "code",
   "execution_count": 9,
   "outputs": [
    {
     "name": "stdout",
     "output_type": "stream",
     "text": [
      "Aggregated Prediction by Score:\n",
      "-----------------------------\n",
      "Accuracy : 0.9621273562879402\n",
      "Precision: 0.9629243479395669\n",
      "Recall   : 0.9621273562879402\n",
      "F1 Score : 0.9618913712400916\n",
      "-----------------------------\n"
     ]
    },
    {
     "data": {
      "text/plain": "(0.9621273562879402,\n 0.9629243479395669,\n 0.9621273562879402,\n 0.9618913712400916)"
     },
     "execution_count": 9,
     "metadata": {},
     "output_type": "execute_result"
    }
   ],
   "source": [
    "print(f\"Aggregated Prediction by Score:\")\n",
    "score = ap.aggregate_predict_by_score(\n",
    "    models_predictions=models_predictions,\n",
    "    models_metrics=models_metrics,\n",
    "    models_weights=model_weights)\n",
    "helper.get_metrics(y_test, score, printout=True)"
   ],
   "metadata": {
    "collapsed": false,
    "ExecuteTime": {
     "end_time": "2023-12-22T20:32:34.601749Z",
     "start_time": "2023-12-22T20:32:34.544625200Z"
    }
   },
   "id": "76140c23d0568c66"
  },
  {
   "cell_type": "code",
   "execution_count": 10,
   "outputs": [
    {
     "name": "stdout",
     "output_type": "stream",
     "text": [
      "Aggregated Prediction by Vote:\n",
      "-----------------------------\n",
      "Accuracy : 0.8278650249453169\n",
      "Precision: 0.8790722964350254\n",
      "Recall   : 0.8278650249453169\n",
      "F1 Score : 0.8290899173281058\n",
      "-----------------------------\n",
      "\n"
     ]
    },
    {
     "data": {
      "text/plain": "(0.8278650249453169,\n 0.8790722964350254,\n 0.8278650249453169,\n 0.8290899173281058)"
     },
     "execution_count": 10,
     "metadata": {},
     "output_type": "execute_result"
    }
   ],
   "source": [
    "print(f\"Aggregated Prediction by Vote:\")\n",
    "vote = ap.aggregate_predict_by_vote(models_predictions=models_predictions)\n",
    "helper.get_metrics(y_test, vote, printout=True)"
   ],
   "metadata": {
    "collapsed": false,
    "ExecuteTime": {
     "end_time": "2023-12-22T20:32:34.694112300Z",
     "start_time": "2023-12-22T20:32:34.590638100Z"
    }
   },
   "id": "3ceea053fbad58cd"
  },
  {
   "cell_type": "markdown",
   "source": [
    "## 2. Simulation of Intrusion Detection in Wireless Sensor Networks\n",
    "\n",
    "Once the WSN simulation starts, the sensors in the nodes will collect new sensing data, these data need to pass the validation of the local models first. The data that passes the validation will be sent to the server and the data that does not pass will be discarded. Once the server receives the sensed data, it will validate the sensor data and the network traffic generated by the transmitted data by aggregated prediction method to give the final validation result. If the data passes the validation, the data is saved, otherwise, the data is discarded."
   ],
   "metadata": {
    "collapsed": false
   },
   "id": "bbf48954502127e6"
  },
  {
   "cell_type": "code",
   "execution_count": 11,
   "outputs": [
    {
     "data": {
      "text/plain": "target\n0    24655\n1    16034\nName: count, dtype: int64"
     },
     "execution_count": 11,
     "metadata": {},
     "output_type": "execute_result"
    }
   ],
   "source": [
    "sensor_test['target'].value_counts()"
   ],
   "metadata": {
    "collapsed": false,
    "ExecuteTime": {
     "end_time": "2023-12-22T20:32:34.694112300Z",
     "start_time": "2023-12-22T20:32:34.652837300Z"
    }
   },
   "id": "70963b012cf31c19"
  },
  {
   "cell_type": "code",
   "execution_count": 12,
   "outputs": [
    {
     "name": "stdout",
     "output_type": "stream",
     "text": [
      "target\n",
      "0    10000\n",
      "1    10000\n",
      "Name: count, dtype: int64\n",
      "target\n",
      "0    10000\n",
      "1    10000\n",
      "Name: count, dtype: int64\n"
     ]
    }
   ],
   "source": [
    "# Select 10000 equally distributed samples from the testing set\n",
    "s0 = sensor_test[sensor_test['target'] == 0].sample(10000)\n",
    "s1 = sensor_test[sensor_test['target'] == 1].sample(10000)\n",
    "sampled_sensor_data = pd.concat([s0, s1])\n",
    "sampled_network_data = network_test.loc[sampled_sensor_data.index]\n",
    "\n",
    "sampled_sensor_data = sampled_sensor_data.reset_index(drop=True)\n",
    "sampled_network_data = sampled_network_data.reset_index(drop=True)\n",
    "\n",
    "print(sampled_sensor_data['target'].value_counts())\n",
    "print(sampled_network_data['target'].value_counts())"
   ],
   "metadata": {
    "collapsed": false,
    "ExecuteTime": {
     "end_time": "2023-12-22T20:32:34.695111200Z",
     "start_time": "2023-12-22T20:32:34.666840800Z"
    }
   },
   "id": "2bad1de2ffcce1bc"
  },
  {
   "cell_type": "code",
   "execution_count": 20,
   "outputs": [
    {
     "name": "stdout",
     "output_type": "stream",
     "text": [
      "-----------------------------\n",
      "Accuracy : 0.9326\n",
      "Precision: 0.9327310136416902\n",
      "Recall   : 0.9326\n",
      "F1 Score : 0.9325948981078378\n",
      "-----------------------------\n"
     ]
    },
    {
     "data": {
      "text/plain": "(0.9326, 0.9327310136416902, 0.9326, 0.9325948981078378)"
     },
     "execution_count": 20,
     "metadata": {},
     "output_type": "execute_result"
    }
   ],
   "source": [
    "# Use Client 1 as an example\n",
    "client_1_model = joblib.load(rf_filename)\n",
    "test_X = sampled_sensor_data.iloc[:, :-1]\n",
    "test_y = sampled_sensor_data.iloc[:, -1]\n",
    "client_1_predict = client_1_model.predict(test_X)\n",
    "helper.get_metrics(test_y, client_1_predict, printout=True)"
   ],
   "metadata": {
    "collapsed": false,
    "ExecuteTime": {
     "end_time": "2023-12-22T20:34:24.722360200Z",
     "start_time": "2023-12-22T20:34:24.293576700Z"
    }
   },
   "id": "4504e2d222da9492"
  },
  {
   "cell_type": "code",
   "execution_count": 21,
   "outputs": [
    {
     "data": {
      "text/plain": "Pred\n0    10174\n1     9826\nName: count, dtype: int64"
     },
     "execution_count": 21,
     "metadata": {},
     "output_type": "execute_result"
    }
   ],
   "source": [
    "client_1_predict_df = pd.DataFrame(client_1_predict, columns=['Pred'])\n",
    "client_1_predict_df['Pred'].value_counts()"
   ],
   "metadata": {
    "collapsed": false,
    "ExecuteTime": {
     "end_time": "2023-12-22T20:34:26.357931700Z",
     "start_time": "2023-12-22T20:34:26.329083500Z"
    }
   },
   "id": "72bb326cbe0f4db9"
  },
  {
   "cell_type": "code",
   "execution_count": 22,
   "outputs": [
    {
     "name": "stdout",
     "output_type": "stream",
     "text": [
      "target\n",
      "0    9413\n",
      "1     761\n",
      "Name: count, dtype: int64\n",
      "target\n",
      "0    9413\n",
      "1     761\n",
      "Name: count, dtype: int64\n"
     ]
    }
   ],
   "source": [
    "# Client 1 will test the sensor data locally, only those that pass will be sent to the server\n",
    "# Drop false data, target = 1\n",
    "rows_to_keep = client_1_predict_df['Pred'] == 0\n",
    "filtered_sensor_data = sampled_sensor_data[rows_to_keep]\n",
    "filtered_network_data = sampled_network_data[rows_to_keep]\n",
    "\n",
    "print(filtered_sensor_data['target'].value_counts())\n",
    "print(filtered_network_data['target'].value_counts())"
   ],
   "metadata": {
    "collapsed": false,
    "ExecuteTime": {
     "end_time": "2023-12-22T20:34:33.945685900Z",
     "start_time": "2023-12-22T20:34:33.922705700Z"
    }
   },
   "id": "d25bb69840b319dd"
  },
  {
   "cell_type": "code",
   "execution_count": 23,
   "outputs": [
    {
     "name": "stdout",
     "output_type": "stream",
     "text": [
      "Sensor Model 1 Prediction Results:\n",
      "-----------------------------\n",
      "Accuracy : 0.9252014940043247\n",
      "Precision: 0.8559978045078346\n",
      "Recall   : 0.9252014940043247\n",
      "F1 Score : 0.8892552880035441\n",
      "-----------------------------\n",
      "\n",
      "\n",
      "Sensor Model 2 Prediction Results:\n",
      "-----------------------------\n",
      "Accuracy : 0.8697660703754668\n",
      "Precision: 0.8641098421571867\n",
      "Recall   : 0.8697660703754668\n",
      "F1 Score : 0.866911590328158\n",
      "-----------------------------\n",
      "\n",
      "\n",
      "Sensor Model 3 Prediction Results:\n",
      "-----------------------------\n",
      "Accuracy : 0.7828779241203067\n",
      "Precision: 0.8769461032543191\n",
      "Recall   : 0.7828779241203067\n",
      "F1 Score : 0.8230445090295856\n",
      "-----------------------------\n",
      "\n",
      "Network Model Prediction Results:\n",
      "-----------------------------\n",
      "Accuracy : 0.9741497935915078\n",
      "Precision: 0.9777012029672975\n",
      "Recall   : 0.9741497935915078\n",
      "F1 Score : 0.9752747524032728\n",
      "-----------------------------\n"
     ]
    },
    {
     "data": {
      "text/plain": "<Figure size 640x480 with 1 Axes>",
      "image/png": "[encoded data removed]"
     },
     "metadata": {},
     "output_type": "display_data"
    }
   ],
   "source": [
    "# Test Client 1 data using all models\n",
    "new_models_predictions, new_models_metrics = ap.get_predictions_and_metrics(\n",
    "    local_models=sensor_models,\n",
    "    sensor_test=filtered_sensor_data,\n",
    "    global_model=network_model,\n",
    "    network_test=filtered_network_data,\n",
    "    roc=False\n",
    ")"
   ],
   "metadata": {
    "collapsed": false,
    "ExecuteTime": {
     "end_time": "2023-12-22T20:34:42.161617700Z",
     "start_time": "2023-12-22T20:34:36.320481800Z"
    }
   },
   "id": "c8a12fb55cc40f84"
  },
  {
   "cell_type": "code",
   "execution_count": 24,
   "outputs": [],
   "source": [
    "# Load Client 1 network testing set, set the weights\n",
    "new_y_test = filtered_network_data.iloc[:, -1]\n",
    "new_model_weights = [0.4, 0.05, 0.05, 0.5]"
   ],
   "metadata": {
    "collapsed": false,
    "ExecuteTime": {
     "end_time": "2023-12-22T20:34:52.557932100Z",
     "start_time": "2023-12-22T20:34:52.531442200Z"
    }
   },
   "id": "edac08ba9789d9e8"
  },
  {
   "cell_type": "code",
   "execution_count": 26,
   "outputs": [
    {
     "name": "stdout",
     "output_type": "stream",
     "text": [
      "Client 1 Aggregated Prediction by Score:\n",
      "-----------------------------\n",
      "Accuracy : 0.9741497935915078\n",
      "Precision: 0.9777012029672975\n",
      "Recall   : 0.9741497935915078\n",
      "F1 Score : 0.9752747524032728\n",
      "-----------------------------\n",
      "\n",
      "\n",
      "Time spent predicting 10174 pieces of data: 0.0 second, average time spent: 0.0 seconds.\n"
     ]
    }
   ],
   "source": [
    "print(f\"Client 1 Aggregated Prediction by Score:\")\n",
    "start_time = time.time()\n",
    "\n",
    "new_score = ap.aggregate_predict_by_score(\n",
    "    models_predictions=new_models_predictions,\n",
    "    models_metrics=new_models_metrics,\n",
    "    models_weights=new_model_weights)\n",
    "\n",
    "end_time = time.time()\n",
    "rows = len(new_models_predictions[0])\n",
    "time_spend = end_time - start_time\n",
    "\n",
    "helper.get_metrics(new_y_test, new_score, printout=True)\n",
    "print(f\"Time spent predicting {rows} pieces of data: {time_spend} second, average time spent: {time_spend / rows} seconds.\")"
   ],
   "metadata": {
    "collapsed": false,
    "ExecuteTime": {
     "end_time": "2023-12-22T20:35:09.984948400Z",
     "start_time": "2023-12-22T20:35:09.901547600Z"
    }
   },
   "id": "e5c0badd8391a815"
  },
  {
   "cell_type": "code",
   "execution_count": 27,
   "outputs": [
    {
     "name": "stdout",
     "output_type": "stream",
     "text": [
      "Client 1 Aggregated Prediction by Vote:\n",
      "-----------------------------\n",
      "Accuracy : 0.774425004914488\n",
      "Precision: 0.9401477418330773\n",
      "Recall   : 0.774425004914488\n",
      "F1 Score : 0.8263626698710934\n",
      "-----------------------------\n",
      "\n",
      "\n",
      "Time spent predicting 10174 pieces of data: 0.00599980354309082 second, average time spent: 5.897192395410674e-07 seconds.\n"
     ]
    }
   ],
   "source": [
    "print(f\"Client 1 Aggregated Prediction by Vote:\")\n",
    "start_time = time.time()\n",
    "\n",
    "new_vote = ap.aggregate_predict_by_vote(models_predictions=new_models_predictions)\n",
    "\n",
    "end_time = time.time()\n",
    "time_spend = end_time - start_time\n",
    "\n",
    "helper.get_metrics(new_y_test, new_vote, printout=True)\n",
    "print(f\"Time spent predicting {rows} pieces of data: {time_spend} second, average time spent: {time_spend / rows} seconds.\")"
   ],
   "metadata": {
    "collapsed": false,
    "ExecuteTime": {
     "end_time": "2023-12-22T20:35:10.891202200Z",
     "start_time": "2023-12-22T20:35:10.821557900Z"
    }
   },
   "id": "614350c626a4118"
  },
  {
   "cell_type": "code",
   "execution_count": null,
   "outputs": [],
   "source": [],
   "metadata": {
    "collapsed": false
   },
   "id": "c927c3923da32d58"
  }
 ],
 "metadata": {
  "kernelspec": {
   "display_name": "Python 3",
   "language": "python",
   "name": "python3"
  },
  "language_info": {
   "codemirror_mode": {
    "name": "ipython",
    "version": 2
   },
   "file_extension": ".py",
   "mimetype": "text/x-python",
   "name": "python",
   "nbconvert_exporter": "python",
   "pygments_lexer": "ipython2",
   "version": "2.7.6"
  }
 },
 "nbformat": 4,
 "nbformat_minor": 5
}
